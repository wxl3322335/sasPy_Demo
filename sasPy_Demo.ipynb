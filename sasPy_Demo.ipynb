{
 "cells": [
  {
   "cell_type": "code",
   "execution_count": 84,
   "metadata": {
    "collapsed": true
   },
   "outputs": [
    {
     "name": "stdout",
     "output_type": "stream",
     "text": [
      "Using SAS Config named: oda\n",
      "SAS Connection established. Subprocess id is 32645\n",
      "\n"
     ]
    }
   ],
   "source": [
    "# connect to sas,please refer to :https://support.sas.com/ondemand/saspy.html\n",
    "import saspy\n",
    "from IPython.core.display import HTML\n",
    "import pandas as pd\n",
    "sas_session = saspy.SASsession()"
   ]
  },
  {
   "cell_type": "code",
   "execution_count": 85,
   "outputs": [
    {
     "name": "stdout",
     "output_type": "stream",
     "text": [
      "['WORK', 'SASDATA', 'STPSAMP', 'SASHELP', 'MAPS', 'MAPSSAS', 'MAPSGFK', 'SASUSER']\n"
     ]
    }
   ],
   "source": [
    "# Check my Lib\n",
    "print(sas_session.assigned_librefs())"
   ],
   "metadata": {
    "collapsed": false,
    "pycharm": {
     "name": "#%%\n"
    }
   }
  },
  {
   "cell_type": "code",
   "execution_count": 96,
   "outputs": [
    {
     "data": {
      "text/plain": "(1284, 16)"
     },
     "execution_count": 96,
     "metadata": {},
     "output_type": "execute_result"
    }
   ],
   "source": [
    "# read sas dataset by dat step\n",
    "sub2 = sas_session.submit('''\n",
    "proc print;\n",
    "    libname xiliang \"/home/u62039140\";\n",
    "    data CARS1;\n",
    "    set xiliang.CARS1-xiliang.CARS3;\n",
    "run;\n",
    "''')\n",
    "df4 = pd.read_html(sub2['LST'])[0]\n",
    "df4.shape"
   ],
   "metadata": {
    "collapsed": false,
    "pycharm": {
     "name": "#%%\n"
    }
   }
  },
  {
   "cell_type": "code",
   "execution_count": 71,
   "outputs": [
    {
     "name": "stderr",
     "output_type": "stream",
     "text": [
      "/Users/wxl/anaconda3/lib/python3.7/site-packages/saspy/sasioiom.py:1018: UserWarning: Noticed 'ERROR:' in LOG, you ought to take a look and see if there was a problem\n",
      "  warnings.warn(\"Noticed 'ERROR:' in LOG, you ought to take a look and see if there was a problem\")\n"
     ]
    },
    {
     "ename": "ValueError",
     "evalue": "Internal code execution failed: ERROR: Variable Cylinders is not on file XILIANG.CARS1.",
     "output_type": "error",
     "traceback": [
      "\u001B[0;31m---------------------------------------------------------------------------\u001B[0m",
      "\u001B[0;31mValueError\u001B[0m                                Traceback (most recent call last)",
      "\u001B[0;32m<ipython-input-71-d2da86e248c4>\u001B[0m in \u001B[0;36m<module>\u001B[0;34m\u001B[0m\n\u001B[1;32m      7\u001B[0m \u001B[0;31m# to pandas\u001B[0m\u001B[0;34m\u001B[0m\u001B[0;34m\u001B[0m\u001B[0;34m\u001B[0m\u001B[0m\n\u001B[1;32m      8\u001B[0m \u001B[0;31m# df2 = f.to_df()\u001B[0m\u001B[0;34m\u001B[0m\u001B[0;34m\u001B[0m\u001B[0;34m\u001B[0m\u001B[0m\n\u001B[0;32m----> 9\u001B[0;31m \u001B[0mdf\u001B[0m\u001B[0;34m.\u001B[0m\u001B[0mhead\u001B[0m\u001B[0;34m(\u001B[0m\u001B[0;34m)\u001B[0m\u001B[0;34m\u001B[0m\u001B[0;34m\u001B[0m\u001B[0m\n\u001B[0m",
      "\u001B[0;32m~/anaconda3/lib/python3.7/site-packages/saspy/sasdata.py\u001B[0m in \u001B[0;36mhead\u001B[0;34m(self, obs)\u001B[0m\n\u001B[1;32m    238\u001B[0m         \u001B[0;32mif\u001B[0m \u001B[0mself\u001B[0m\u001B[0;34m.\u001B[0m\u001B[0mresults\u001B[0m\u001B[0;34m.\u001B[0m\u001B[0mupper\u001B[0m\u001B[0;34m(\u001B[0m\u001B[0;34m)\u001B[0m \u001B[0;34m==\u001B[0m \u001B[0;34m'PANDAS'\u001B[0m\u001B[0;34m:\u001B[0m\u001B[0;34m\u001B[0m\u001B[0;34m\u001B[0m\u001B[0m\n\u001B[1;32m    239\u001B[0m             \u001B[0mcode\u001B[0m \u001B[0;34m=\u001B[0m \u001B[0;34m\"data work._head ; set %s.'%s'n %s; run;\"\u001B[0m \u001B[0;34m%\u001B[0m \u001B[0;34m(\u001B[0m\u001B[0mself\u001B[0m\u001B[0;34m.\u001B[0m\u001B[0mlibref\u001B[0m\u001B[0;34m,\u001B[0m \u001B[0mself\u001B[0m\u001B[0;34m.\u001B[0m\u001B[0mtable\u001B[0m\u001B[0;34m.\u001B[0m\u001B[0mreplace\u001B[0m\u001B[0;34m(\u001B[0m\u001B[0;34m\"'\"\u001B[0m\u001B[0;34m,\u001B[0m \u001B[0;34m\"''\"\u001B[0m\u001B[0;34m)\u001B[0m\u001B[0;34m,\u001B[0m \u001B[0mself\u001B[0m\u001B[0;34m.\u001B[0m\u001B[0msas\u001B[0m\u001B[0;34m.\u001B[0m\u001B[0m_dsopts\u001B[0m\u001B[0;34m(\u001B[0m\u001B[0mtopts\u001B[0m\u001B[0;34m)\u001B[0m\u001B[0;34m)\u001B[0m\u001B[0;34m\u001B[0m\u001B[0;34m\u001B[0m\u001B[0m\n\u001B[0;32m--> 240\u001B[0;31m             \u001B[0mdf\u001B[0m   \u001B[0;34m=\u001B[0m \u001B[0mself\u001B[0m\u001B[0;34m.\u001B[0m\u001B[0m_returnPD\u001B[0m\u001B[0;34m(\u001B[0m\u001B[0mcode\u001B[0m\u001B[0;34m,\u001B[0m \u001B[0;34m'_head'\u001B[0m\u001B[0;34m)\u001B[0m\u001B[0;34m\u001B[0m\u001B[0;34m\u001B[0m\u001B[0m\n\u001B[0m\u001B[1;32m    241\u001B[0m             \u001B[0mself\u001B[0m\u001B[0;34m.\u001B[0m\u001B[0msas\u001B[0m\u001B[0;34m.\u001B[0m\u001B[0m_lastlog\u001B[0m \u001B[0;34m=\u001B[0m \u001B[0mself\u001B[0m\u001B[0;34m.\u001B[0m\u001B[0msas\u001B[0m\u001B[0;34m.\u001B[0m\u001B[0m_io\u001B[0m\u001B[0;34m.\u001B[0m\u001B[0m_log\u001B[0m\u001B[0;34m[\u001B[0m\u001B[0mlastlog\u001B[0m\u001B[0;34m:\u001B[0m\u001B[0;34m]\u001B[0m\u001B[0;34m\u001B[0m\u001B[0;34m\u001B[0m\u001B[0m\n\u001B[1;32m    242\u001B[0m             \u001B[0;32mreturn\u001B[0m \u001B[0mdf\u001B[0m\u001B[0;34m\u001B[0m\u001B[0;34m\u001B[0m\u001B[0m\n",
      "\u001B[0;32m~/anaconda3/lib/python3.7/site-packages/saspy/sasdata.py\u001B[0m in \u001B[0;36m_returnPD\u001B[0;34m(self, code, tablename, **kwargs)\u001B[0m\n\u001B[1;32m    174\u001B[0m         \u001B[0mcheck\u001B[0m\u001B[0;34m,\u001B[0m \u001B[0merrorMsg\u001B[0m \u001B[0;34m=\u001B[0m \u001B[0mself\u001B[0m\u001B[0;34m.\u001B[0m\u001B[0m_checkLogForError\u001B[0m\u001B[0;34m(\u001B[0m\u001B[0mll\u001B[0m\u001B[0;34m[\u001B[0m\u001B[0;34m'LOG'\u001B[0m\u001B[0;34m]\u001B[0m\u001B[0;34m)\u001B[0m\u001B[0;34m\u001B[0m\u001B[0;34m\u001B[0m\u001B[0m\n\u001B[1;32m    175\u001B[0m         \u001B[0;32mif\u001B[0m \u001B[0;32mnot\u001B[0m \u001B[0mcheck\u001B[0m\u001B[0;34m:\u001B[0m\u001B[0;34m\u001B[0m\u001B[0;34m\u001B[0m\u001B[0m\n\u001B[0;32m--> 176\u001B[0;31m             \u001B[0;32mraise\u001B[0m \u001B[0mValueError\u001B[0m\u001B[0;34m(\u001B[0m\u001B[0;34m\"Internal code execution failed: \"\u001B[0m \u001B[0;34m+\u001B[0m \u001B[0merrorMsg\u001B[0m\u001B[0;34m)\u001B[0m\u001B[0;34m\u001B[0m\u001B[0;34m\u001B[0m\u001B[0m\n\u001B[0m\u001B[1;32m    177\u001B[0m         \u001B[0;32mif\u001B[0m \u001B[0misinstance\u001B[0m\u001B[0;34m(\u001B[0m\u001B[0mtablename\u001B[0m\u001B[0;34m,\u001B[0m \u001B[0mstr\u001B[0m\u001B[0;34m)\u001B[0m\u001B[0;34m:\u001B[0m\u001B[0;34m\u001B[0m\u001B[0;34m\u001B[0m\u001B[0m\n\u001B[1;32m    178\u001B[0m             \u001B[0mdf\u001B[0m \u001B[0;34m=\u001B[0m \u001B[0mself\u001B[0m\u001B[0;34m.\u001B[0m\u001B[0msas\u001B[0m\u001B[0;34m.\u001B[0m\u001B[0msasdata2dataframe\u001B[0m\u001B[0;34m(\u001B[0m\u001B[0mtablename\u001B[0m\u001B[0;34m,\u001B[0m \u001B[0mlibref\u001B[0m\u001B[0;34m)\u001B[0m\u001B[0;34m\u001B[0m\u001B[0;34m\u001B[0m\u001B[0m\n",
      "\u001B[0;31mValueError\u001B[0m: Internal code execution failed: ERROR: Variable Cylinders is not on file XILIANG.CARS1."
     ]
    }
   ],
   "source": [
    "# Access SAS Datasets by data step\n",
    "options = {'where'    : 'Cylinders>1',\n",
    "           'keep'     : 'Make'\n",
    "}\n",
    "df = sas_session.sasdata(table='CARS1', libref='xiliang',results='Pandas', dsopts=options)#\n",
    "\n",
    "# to pandas\n",
    "# df2 = f.to_df()\n",
    "df.head()"
   ],
   "metadata": {
    "collapsed": false,
    "pycharm": {
     "name": "#%%\n"
    }
   }
  },
  {
   "cell_type": "code",
   "execution_count": 80,
   "outputs": [
    {
     "data": {
      "text/plain": "   Obs   Make           Model   Type Origin DriveTrain     MSRP  Invoice  \\\n0    1  Acura             MDX    SUV   Asia        All  $36,945  $33,337   \n1    2  Acura  RSX Type S 2dr  Sedan   Asia      Front  $23,820  $21,761   \n2    3  Acura         TSX 4dr  Sedan   Asia      Front  $26,990  $24,647   \n3    4  Acura          TL 4dr  Sedan   Asia      Front  $33,195  $30,299   \n4    5  Acura      3.5 RL 4dr  Sedan   Asia      Front  $43,755  $39,014   \n\n   EngineSize Cylinders  Horsepower  MPG_City  MPG_Highway  Weight  Wheelbase  \\\n0         3.5         6         265        17           23    4451        106   \n1         2.0         4         200        24           31    2778        101   \n2         2.4         4         200        22           29    3230        105   \n3         3.2         6         270        20           28    3575        108   \n4         3.5         6         225        18           24    3880        115   \n\n   Length  \n0     189  \n1     172  \n2     183  \n3     186  \n4     197  ",
      "text/html": "<div>\n<style scoped>\n    .dataframe tbody tr th:only-of-type {\n        vertical-align: middle;\n    }\n\n    .dataframe tbody tr th {\n        vertical-align: top;\n    }\n\n    .dataframe thead th {\n        text-align: right;\n    }\n</style>\n<table border=\"1\" class=\"dataframe\">\n  <thead>\n    <tr style=\"text-align: right;\">\n      <th></th>\n      <th>Obs</th>\n      <th>Make</th>\n      <th>Model</th>\n      <th>Type</th>\n      <th>Origin</th>\n      <th>DriveTrain</th>\n      <th>MSRP</th>\n      <th>Invoice</th>\n      <th>EngineSize</th>\n      <th>Cylinders</th>\n      <th>Horsepower</th>\n      <th>MPG_City</th>\n      <th>MPG_Highway</th>\n      <th>Weight</th>\n      <th>Wheelbase</th>\n      <th>Length</th>\n    </tr>\n  </thead>\n  <tbody>\n    <tr>\n      <th>0</th>\n      <td>1</td>\n      <td>Acura</td>\n      <td>MDX</td>\n      <td>SUV</td>\n      <td>Asia</td>\n      <td>All</td>\n      <td>$36,945</td>\n      <td>$33,337</td>\n      <td>3.5</td>\n      <td>6</td>\n      <td>265</td>\n      <td>17</td>\n      <td>23</td>\n      <td>4451</td>\n      <td>106</td>\n      <td>189</td>\n    </tr>\n    <tr>\n      <th>1</th>\n      <td>2</td>\n      <td>Acura</td>\n      <td>RSX Type S 2dr</td>\n      <td>Sedan</td>\n      <td>Asia</td>\n      <td>Front</td>\n      <td>$23,820</td>\n      <td>$21,761</td>\n      <td>2.0</td>\n      <td>4</td>\n      <td>200</td>\n      <td>24</td>\n      <td>31</td>\n      <td>2778</td>\n      <td>101</td>\n      <td>172</td>\n    </tr>\n    <tr>\n      <th>2</th>\n      <td>3</td>\n      <td>Acura</td>\n      <td>TSX 4dr</td>\n      <td>Sedan</td>\n      <td>Asia</td>\n      <td>Front</td>\n      <td>$26,990</td>\n      <td>$24,647</td>\n      <td>2.4</td>\n      <td>4</td>\n      <td>200</td>\n      <td>22</td>\n      <td>29</td>\n      <td>3230</td>\n      <td>105</td>\n      <td>183</td>\n    </tr>\n    <tr>\n      <th>3</th>\n      <td>4</td>\n      <td>Acura</td>\n      <td>TL 4dr</td>\n      <td>Sedan</td>\n      <td>Asia</td>\n      <td>Front</td>\n      <td>$33,195</td>\n      <td>$30,299</td>\n      <td>3.2</td>\n      <td>6</td>\n      <td>270</td>\n      <td>20</td>\n      <td>28</td>\n      <td>3575</td>\n      <td>108</td>\n      <td>186</td>\n    </tr>\n    <tr>\n      <th>4</th>\n      <td>5</td>\n      <td>Acura</td>\n      <td>3.5 RL 4dr</td>\n      <td>Sedan</td>\n      <td>Asia</td>\n      <td>Front</td>\n      <td>$43,755</td>\n      <td>$39,014</td>\n      <td>3.5</td>\n      <td>6</td>\n      <td>225</td>\n      <td>18</td>\n      <td>24</td>\n      <td>3880</td>\n      <td>115</td>\n      <td>197</td>\n    </tr>\n  </tbody>\n</table>\n</div>"
     },
     "execution_count": 80,
     "metadata": {},
     "output_type": "execute_result"
    }
   ],
   "source": [
    "# read sas dataset by sql\n",
    "sub1 = sas_session.submit('''\n",
    "libname xiliang \"/home/u62039140\";\n",
    "PROC SQL;\n",
    "SELECT\n",
    "*\n",
    "FROM xiliang.CARS1;\n",
    "QUIT;\n",
    "''',results='TEXT')\n",
    "df4 = pd.read_html(sub2['LST'])[0]\n",
    "df4.head()"
   ],
   "metadata": {
    "collapsed": false,
    "pycharm": {
     "name": "#%%\n"
    }
   }
  },
  {
   "cell_type": "code",
   "execution_count": null,
   "outputs": [],
   "source": [],
   "metadata": {
    "collapsed": false,
    "pycharm": {
     "name": "#%%\n"
    }
   }
  },
  {
   "cell_type": "code",
   "execution_count": null,
   "outputs": [],
   "source": [],
   "metadata": {
    "collapsed": false,
    "pycharm": {
     "name": "#%%\n"
    }
   }
  },
  {
   "cell_type": "code",
   "execution_count": null,
   "outputs": [],
   "source": [],
   "metadata": {
    "collapsed": false,
    "pycharm": {
     "name": "#%%\n"
    }
   }
  },
  {
   "cell_type": "code",
   "execution_count": null,
   "outputs": [],
   "source": [],
   "metadata": {
    "collapsed": false,
    "pycharm": {
     "name": "#%%\n"
    }
   }
  },
  {
   "cell_type": "code",
   "execution_count": null,
   "outputs": [],
   "source": [],
   "metadata": {
    "collapsed": false,
    "pycharm": {
     "name": "#%%\n"
    }
   }
  }
 ],
 "metadata": {
  "kernelspec": {
   "display_name": "Python 3",
   "language": "python",
   "name": "python3"
  },
  "language_info": {
   "codemirror_mode": {
    "name": "ipython",
    "version": 2
   },
   "file_extension": ".py",
   "mimetype": "text/x-python",
   "name": "python",
   "nbconvert_exporter": "python",
   "pygments_lexer": "ipython2",
   "version": "2.7.6"
  }
 },
 "nbformat": 4,
 "nbformat_minor": 0
}