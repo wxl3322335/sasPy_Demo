{
 "cells": [
  {
   "cell_type": "code",
   "execution_count": 35,
   "metadata": {
    "collapsed": true
   },
   "outputs": [
    {
     "name": "stdout",
     "output_type": "stream",
     "text": [
      "Using SAS Config named: oda\n",
      "SAS Connection established. Subprocess id is 28957\n",
      "\n"
     ]
    }
   ],
   "source": [
    "# connect to sas,please refer to :https://support.sas.com/ondemand/saspy.html\n",
    "import saspy\n",
    "from IPython.core.display import HTML\n",
    "import pandas as pd\n",
    "sas_session = saspy.SASsession()"
   ]
  },
  {
   "cell_type": "code",
   "execution_count": 36,
   "outputs": [
    {
     "name": "stdout",
     "output_type": "stream",
     "text": [
      "['WORK', 'SASDATA', 'STPSAMP', 'SASHELP', 'MAPS', 'MAPSSAS', 'MAPSGFK', 'SASUSER']\n"
     ]
    }
   ],
   "source": [
    "# Check my Lib\n",
    "print(sas_session.assigned_librefs())"
   ],
   "metadata": {
    "collapsed": false,
    "pycharm": {
     "name": "#%%\n"
    }
   }
  },
  {
   "cell_type": "code",
   "execution_count": 46,
   "outputs": [
    {
     "data": {
      "text/plain": "(28, 5)"
     },
     "execution_count": 46,
     "metadata": {},
     "output_type": "execute_result"
    }
   ],
   "source": [
    "# Access SAS Datasets by data step\n",
    "options = {'where'    : 'ID>1and country>=110',\n",
    "           'keep'     : '_MAP_GEOMETRY_ COUNTRY ID IDNAME',\n",
    "           'format'  : {'ID':'int'}\n",
    "}\n",
    "df = sas_session.sasdata(table='afghani2', libref='MAPS', dsopts=options)\n",
    "\n",
    "# to pandas\n",
    "df2 = df.to_df()\n",
    "df2.head()\n",
    "df2.shape"
   ],
   "metadata": {
    "collapsed": false,
    "pycharm": {
     "name": "#%%\n"
    }
   }
  },
  {
   "cell_type": "code",
   "execution_count": 47,
   "outputs": [
    {
     "data": {
      "text/plain": "   Variable used by the Map Chart Client  World Geographic Code  Id Number  \\\n0                  id 1 of maps.afghanis                    110          1   \n1                  id 2 of maps.afghanis                    110          2   \n2                  id 3 of maps.afghanis                    110          3   \n3                  id 4 of maps.afghanis                    110          4   \n4                  id 5 of maps.afghanis                    110          5   \n5                  id 6 of maps.afghanis                    110          6   \n6                  id 7 of maps.afghanis                    110          7   \n7                  id 8 of maps.afghanis                    110          8   \n8                  id 9 of maps.afghanis                    110          9   \n9                 id 10 of maps.afghanis                    110         10   \n10                id 11 of maps.afghanis                    110         11   \n11                id 12 of maps.afghanis                    110         12   \n12                id 13 of maps.afghanis                    110         13   \n13                id 14 of maps.afghanis                    110         14   \n14                id 15 of maps.afghanis                    110         15   \n15                id 16 of maps.afghanis                    110         16   \n16                id 17 of maps.afghanis                    110         17   \n17                id 18 of maps.afghanis                    110         18   \n18                id 19 of maps.afghanis                    110         19   \n19                id 20 of maps.afghanis                    110         20   \n20                id 21 of maps.afghanis                    110         21   \n21                id 22 of maps.afghanis                    110         22   \n22                id 23 of maps.afghanis                    110         23   \n23                id 24 of maps.afghanis                    110         24   \n24                id 25 of maps.afghanis                    110         25   \n25                id 26 of maps.afghanis                    110         26   \n26                id 27 of maps.afghanis                    110         27   \n27                id 28 of maps.afghanis                    110         28   \n28                id 29 of maps.afghanis                    110         29   \n\n   Name of Internal Division  \n0                 Badakhshan  \n1                    Badghis  \n2                    Baghlan  \n3                      Balkn  \n4                     Bamian  \n5                      Farah  \n6                     Faryab  \n7                     Ghazni  \n8                      Ghowr  \n9                    Helmand  \n10                     Herat  \n11                   Jowzjan  \n12                     Kabol  \n13                    Kapisa  \n14                   Konarha  \n15                    Konduz  \n16                   Laghman  \n17                    Lowgar  \n18                 Nangarhar  \n19                    Nimruz  \n20                   Oruzgan  \n21                    Paktia  \n22                   Paktika  \n23                    Parvan  \n24                  Qandahar  \n25                  Samangan  \n26                    Takhar  \n27                    Vardak  \n28                     Zabol  ",
      "text/html": "<div>\n<style scoped>\n    .dataframe tbody tr th:only-of-type {\n        vertical-align: middle;\n    }\n\n    .dataframe tbody tr th {\n        vertical-align: top;\n    }\n\n    .dataframe thead th {\n        text-align: right;\n    }\n</style>\n<table border=\"1\" class=\"dataframe\">\n  <thead>\n    <tr style=\"text-align: right;\">\n      <th></th>\n      <th>Variable used by the Map Chart Client</th>\n      <th>World Geographic Code</th>\n      <th>Id Number</th>\n      <th>Name of Internal Division</th>\n    </tr>\n  </thead>\n  <tbody>\n    <tr>\n      <th>0</th>\n      <td>id 1 of maps.afghanis</td>\n      <td>110</td>\n      <td>1</td>\n      <td>Badakhshan</td>\n    </tr>\n    <tr>\n      <th>1</th>\n      <td>id 2 of maps.afghanis</td>\n      <td>110</td>\n      <td>2</td>\n      <td>Badghis</td>\n    </tr>\n    <tr>\n      <th>2</th>\n      <td>id 3 of maps.afghanis</td>\n      <td>110</td>\n      <td>3</td>\n      <td>Baghlan</td>\n    </tr>\n    <tr>\n      <th>3</th>\n      <td>id 4 of maps.afghanis</td>\n      <td>110</td>\n      <td>4</td>\n      <td>Balkn</td>\n    </tr>\n    <tr>\n      <th>4</th>\n      <td>id 5 of maps.afghanis</td>\n      <td>110</td>\n      <td>5</td>\n      <td>Bamian</td>\n    </tr>\n    <tr>\n      <th>5</th>\n      <td>id 6 of maps.afghanis</td>\n      <td>110</td>\n      <td>6</td>\n      <td>Farah</td>\n    </tr>\n    <tr>\n      <th>6</th>\n      <td>id 7 of maps.afghanis</td>\n      <td>110</td>\n      <td>7</td>\n      <td>Faryab</td>\n    </tr>\n    <tr>\n      <th>7</th>\n      <td>id 8 of maps.afghanis</td>\n      <td>110</td>\n      <td>8</td>\n      <td>Ghazni</td>\n    </tr>\n    <tr>\n      <th>8</th>\n      <td>id 9 of maps.afghanis</td>\n      <td>110</td>\n      <td>9</td>\n      <td>Ghowr</td>\n    </tr>\n    <tr>\n      <th>9</th>\n      <td>id 10 of maps.afghanis</td>\n      <td>110</td>\n      <td>10</td>\n      <td>Helmand</td>\n    </tr>\n    <tr>\n      <th>10</th>\n      <td>id 11 of maps.afghanis</td>\n      <td>110</td>\n      <td>11</td>\n      <td>Herat</td>\n    </tr>\n    <tr>\n      <th>11</th>\n      <td>id 12 of maps.afghanis</td>\n      <td>110</td>\n      <td>12</td>\n      <td>Jowzjan</td>\n    </tr>\n    <tr>\n      <th>12</th>\n      <td>id 13 of maps.afghanis</td>\n      <td>110</td>\n      <td>13</td>\n      <td>Kabol</td>\n    </tr>\n    <tr>\n      <th>13</th>\n      <td>id 14 of maps.afghanis</td>\n      <td>110</td>\n      <td>14</td>\n      <td>Kapisa</td>\n    </tr>\n    <tr>\n      <th>14</th>\n      <td>id 15 of maps.afghanis</td>\n      <td>110</td>\n      <td>15</td>\n      <td>Konarha</td>\n    </tr>\n    <tr>\n      <th>15</th>\n      <td>id 16 of maps.afghanis</td>\n      <td>110</td>\n      <td>16</td>\n      <td>Konduz</td>\n    </tr>\n    <tr>\n      <th>16</th>\n      <td>id 17 of maps.afghanis</td>\n      <td>110</td>\n      <td>17</td>\n      <td>Laghman</td>\n    </tr>\n    <tr>\n      <th>17</th>\n      <td>id 18 of maps.afghanis</td>\n      <td>110</td>\n      <td>18</td>\n      <td>Lowgar</td>\n    </tr>\n    <tr>\n      <th>18</th>\n      <td>id 19 of maps.afghanis</td>\n      <td>110</td>\n      <td>19</td>\n      <td>Nangarhar</td>\n    </tr>\n    <tr>\n      <th>19</th>\n      <td>id 20 of maps.afghanis</td>\n      <td>110</td>\n      <td>20</td>\n      <td>Nimruz</td>\n    </tr>\n    <tr>\n      <th>20</th>\n      <td>id 21 of maps.afghanis</td>\n      <td>110</td>\n      <td>21</td>\n      <td>Oruzgan</td>\n    </tr>\n    <tr>\n      <th>21</th>\n      <td>id 22 of maps.afghanis</td>\n      <td>110</td>\n      <td>22</td>\n      <td>Paktia</td>\n    </tr>\n    <tr>\n      <th>22</th>\n      <td>id 23 of maps.afghanis</td>\n      <td>110</td>\n      <td>23</td>\n      <td>Paktika</td>\n    </tr>\n    <tr>\n      <th>23</th>\n      <td>id 24 of maps.afghanis</td>\n      <td>110</td>\n      <td>24</td>\n      <td>Parvan</td>\n    </tr>\n    <tr>\n      <th>24</th>\n      <td>id 25 of maps.afghanis</td>\n      <td>110</td>\n      <td>25</td>\n      <td>Qandahar</td>\n    </tr>\n    <tr>\n      <th>25</th>\n      <td>id 26 of maps.afghanis</td>\n      <td>110</td>\n      <td>26</td>\n      <td>Samangan</td>\n    </tr>\n    <tr>\n      <th>26</th>\n      <td>id 27 of maps.afghanis</td>\n      <td>110</td>\n      <td>27</td>\n      <td>Takhar</td>\n    </tr>\n    <tr>\n      <th>27</th>\n      <td>id 28 of maps.afghanis</td>\n      <td>110</td>\n      <td>28</td>\n      <td>Vardak</td>\n    </tr>\n    <tr>\n      <th>28</th>\n      <td>id 29 of maps.afghanis</td>\n      <td>110</td>\n      <td>29</td>\n      <td>Zabol</td>\n    </tr>\n  </tbody>\n</table>\n</div>"
     },
     "execution_count": 47,
     "metadata": {},
     "output_type": "execute_result"
    }
   ],
   "source": [
    "# read sas dataset by sql\n",
    "sub1 = sas_session.submit('''\n",
    "PROC SQL;\n",
    "SELECT * FROM MAPS.afghani2;\n",
    "QUIT;\n",
    "''')\n",
    "df3 = pd.read_html(sub1['LST'])[0]\n",
    "df3"
   ],
   "metadata": {
    "collapsed": false,
    "pycharm": {
     "name": "#%%\n"
    }
   }
  }
 ],
 "metadata": {
  "kernelspec": {
   "display_name": "Python 3",
   "language": "python",
   "name": "python3"
  },
  "language_info": {
   "codemirror_mode": {
    "name": "ipython",
    "version": 2
   },
   "file_extension": ".py",
   "mimetype": "text/x-python",
   "name": "python",
   "nbconvert_exporter": "python",
   "pygments_lexer": "ipython2",
   "version": "2.7.6"
  }
 },
 "nbformat": 4,
 "nbformat_minor": 0
}