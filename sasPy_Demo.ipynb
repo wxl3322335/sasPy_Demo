{
 "cells": [
  {
   "cell_type": "code",
   "execution_count": 11,
   "metadata": {
    "collapsed": true
   },
   "outputs": [
    {
     "name": "stdout",
     "output_type": "stream",
     "text": [
      "Using SAS Config named: oda\n",
      "SAS Connection established. Subprocess id is 23134\n",
      "\n"
     ]
    }
   ],
   "source": [
    "# connect to sas,please refer to :https://support.sas.com/ondemand/saspy.html\n",
    "import saspy\n",
    "sas_session = saspy.SASsession()"
   ]
  },
  {
   "cell_type": "code",
   "execution_count": 12,
   "outputs": [
    {
     "name": "stdout",
     "output_type": "stream",
     "text": [
      "['WORK', 'SASDATA', 'STPSAMP', 'SASHELP', 'MAPS', 'MAPSSAS', 'MAPSGFK', 'SASUSER']\n"
     ]
    }
   ],
   "source": [
    "# Check my Lib\n",
    "print(sas_session.assigned_librefs())"
   ],
   "metadata": {
    "collapsed": false,
    "pycharm": {
     "name": "#%%\n"
    }
   }
  },
  {
   "cell_type": "code",
   "execution_count": 13,
   "outputs": [
    {
     "data": {
      "text/plain": "          _MAP_GEOMETRY_  COUNTRY   ID   IDNAME\n0  id 2 of maps.afghanis    110.0  2.0  Badghis\n1  id 3 of maps.afghanis    110.0  3.0  Baghlan\n2  id 4 of maps.afghanis    110.0  4.0    Balkn\n3  id 5 of maps.afghanis    110.0  5.0   Bamian\n4  id 6 of maps.afghanis    110.0  6.0    Farah",
      "text/html": "<div>\n<style scoped>\n    .dataframe tbody tr th:only-of-type {\n        vertical-align: middle;\n    }\n\n    .dataframe tbody tr th {\n        vertical-align: top;\n    }\n\n    .dataframe thead th {\n        text-align: right;\n    }\n</style>\n<table border=\"1\" class=\"dataframe\">\n  <thead>\n    <tr style=\"text-align: right;\">\n      <th></th>\n      <th>_MAP_GEOMETRY_</th>\n      <th>COUNTRY</th>\n      <th>ID</th>\n      <th>IDNAME</th>\n    </tr>\n  </thead>\n  <tbody>\n    <tr>\n      <th>0</th>\n      <td>id 2 of maps.afghanis</td>\n      <td>110.0</td>\n      <td>2.0</td>\n      <td>Badghis</td>\n    </tr>\n    <tr>\n      <th>1</th>\n      <td>id 3 of maps.afghanis</td>\n      <td>110.0</td>\n      <td>3.0</td>\n      <td>Baghlan</td>\n    </tr>\n    <tr>\n      <th>2</th>\n      <td>id 4 of maps.afghanis</td>\n      <td>110.0</td>\n      <td>4.0</td>\n      <td>Balkn</td>\n    </tr>\n    <tr>\n      <th>3</th>\n      <td>id 5 of maps.afghanis</td>\n      <td>110.0</td>\n      <td>5.0</td>\n      <td>Bamian</td>\n    </tr>\n    <tr>\n      <th>4</th>\n      <td>id 6 of maps.afghanis</td>\n      <td>110.0</td>\n      <td>6.0</td>\n      <td>Farah</td>\n    </tr>\n  </tbody>\n</table>\n</div>"
     },
     "execution_count": 13,
     "metadata": {},
     "output_type": "execute_result"
    }
   ],
   "source": [
    "# Access SAS Datasets\n",
    "# et dataset options (SAS datastep options)\n",
    "# Available options: where (str), keep (str or list), drop (str or list), firstobs (int or str), obs (int or str), format (dict)\n",
    "options = {'where'    : 'ID>1and country>=110',\n",
    "           'keep'     : '_MAP_GEOMETRY_ COUNTRY ID IDNAME',\n",
    "           'format'  : {'ID':'int'}\n",
    "}\n",
    "\n",
    "df = sas_session.sasdata(table='afghani2', libref='MAPS', dsopts=options)\n",
    "df.head()"
   ],
   "metadata": {
    "collapsed": false,
    "pycharm": {
     "name": "#%%\n"
    }
   }
  },
  {
   "cell_type": "code",
   "execution_count": 14,
   "outputs": [],
   "source": [
    "# to pandas\n",
    "df2 = df.to_df()"
   ],
   "metadata": {
    "collapsed": false,
    "pycharm": {
     "name": "#%%\n"
    }
   }
  },
  {
   "cell_type": "code",
   "execution_count": 15,
   "outputs": [
    {
     "data": {
      "text/plain": "_MAP_GEOMETRY_     object\nCOUNTRY           float64\nID                float64\nIDNAME             object\nint               float64\ndtype: object"
     },
     "execution_count": 15,
     "metadata": {},
     "output_type": "execute_result"
    }
   ],
   "source": [
    "df2.dtypes"
   ],
   "metadata": {
    "collapsed": false,
    "pycharm": {
     "name": "#%%\n"
    }
   }
  },
  {
   "cell_type": "code",
   "execution_count": null,
   "outputs": [],
   "source": [],
   "metadata": {
    "collapsed": false,
    "pycharm": {
     "name": "#%%\n"
    }
   }
  }
 ],
 "metadata": {
  "kernelspec": {
   "display_name": "Python 3",
   "language": "python",
   "name": "python3"
  },
  "language_info": {
   "codemirror_mode": {
    "name": "ipython",
    "version": 2
   },
   "file_extension": ".py",
   "mimetype": "text/x-python",
   "name": "python",
   "nbconvert_exporter": "python",
   "pygments_lexer": "ipython2",
   "version": "2.7.6"
  }
 },
 "nbformat": 4,
 "nbformat_minor": 0
}